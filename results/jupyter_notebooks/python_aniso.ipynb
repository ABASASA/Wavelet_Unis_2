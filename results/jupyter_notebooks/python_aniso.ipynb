{
 "cells": [
  {
   "cell_type": "code",
   "execution_count": 49,
   "metadata": {},
   "outputs": [
    {
     "data": {
      "text/plain": [
       "<module 'aniso' from '/Users/uriamor/WaveletsForestRegressor/aniso.py'>"
      ]
     },
     "execution_count": 49,
     "metadata": {},
     "output_type": "execute_result"
    }
   ],
   "source": [
    "import sys\n",
    "import pandas as pd\n",
    "sys.path.append(\"/Users/uriamor/WaveletsForestRegressor/\")\n",
    "import aniso\n",
    "from importlib import reload\n",
    "import numpy as np\n"
   ]
  },
  {
   "cell_type": "code",
   "execution_count": 129,
   "metadata": {},
   "outputs": [
    {
     "data": {
      "text/plain": [
       "True"
      ]
     },
     "execution_count": 129,
     "metadata": {},
     "output_type": "execute_result"
    }
   ],
   "source": [
    "\n",
    "np.inf == np.inf"
   ]
  },
  {
   "cell_type": "code",
   "execution_count": 190,
   "metadata": {},
   "outputs": [
    {
     "name": "stdout",
     "output_type": "stream",
     "text": [
      "(5875, 19)\n"
     ]
    }
   ],
   "source": [
    "X_train = pd.read_csv(\"/Users/uriamor/Documents/TAU/Wavelet_Unis_2/db/parkinson/trainingData.txt\", sep=\"\\s+\", header=None).values\n",
    "Y_train = pd.read_csv(\"/Users/uriamor/Documents/TAU/Wavelet_Unis_2/db/parkinson/trainingLabel.txt\", sep=\"\\s+\", header=None).values\n",
    "\n",
    "X_test = pd.read_csv(\"/Users/uriamor/Documents/TAU/Wavelet_Unis_2/db/parkinson/testingData.txt\", sep=\"\\s+\", header=None).values\n",
    "Y_test = pd.read_csv(\"/Users/uriamor/Documents/TAU/Wavelet_Unis_2/db/parkinson/testingLabel.txt\", sep=\"\\s+\", header=None).values\n",
    "print(X_train.shape)"
   ]
  },
  {
   "cell_type": "code",
   "execution_count": 192,
   "metadata": {},
   "outputs": [
    {
     "name": "stdout",
     "output_type": "stream",
     "text": [
      "fitting tree 1\n"
     ]
    },
    {
     "name": "stderr",
     "output_type": "stream",
     "text": [
      "/Users/uriamor/WaveletsForestRegressor/aniso.py:67: RuntimeWarning: invalid value encountered in double_scalars\n",
      "  if (var1 + var2)/_tmp_var  < .9:\n",
      "/Users/uriamor/WaveletsForestRegressor/aniso.py:67: RuntimeWarning: divide by zero encountered in double_scalars\n",
      "  if (var1 + var2)/_tmp_var  < .9:\n"
     ]
    },
    {
     "name": "stdout",
     "output_type": "stream",
     "text": [
      "1000\n",
      "2000\n",
      "3000\n",
      "4000\n",
      "scoring tree 1\n"
     ]
    }
   ],
   "source": [
    "reload(aniso)\n",
    "r= aniso.RF(n_trees=1,min_samples_split=10, max_nodes_per_tree=5000).fit(X_train, Y_train)\n",
    "preds = r.predict(X_test)\n",
    "preds_t = r.predict(X_train)"
   ]
  },
  {
   "cell_type": "code",
   "execution_count": 197,
   "metadata": {},
   "outputs": [
    {
     "name": "stdout",
     "output_type": "stream",
     "text": [
      "10.193883615821555\n",
      "1.4153125034988183\n",
      "nan\n"
     ]
    },
    {
     "name": "stderr",
     "output_type": "stream",
     "text": [
      "/Users/uriamor/.local/lib/python3.6/site-packages/ipykernel_launcher.py:4: RuntimeWarning: invalid value encountered in sqrt\n",
      "  after removing the cwd from sys.path.\n"
     ]
    }
   ],
   "source": [
    "print(np.mean(np.square(preds - Y_test)))\n",
    "print(np.mean(np.abs(preds_t - Y_train)))\n",
    "e = r.estimators[0]\n",
    "print(np.mean(np.sqrt(e.predict(X_test) - Y_test)))\n",
    "# e.predict(X_test) - Y_test"
   ]
  }
 ],
 "metadata": {
  "kernelspec": {
   "display_name": "WF",
   "language": "python",
   "name": "wf"
  },
  "language_info": {
   "codemirror_mode": {
    "name": "ipython",
    "version": 3
   },
   "file_extension": ".py",
   "mimetype": "text/x-python",
   "name": "python",
   "nbconvert_exporter": "python",
   "pygments_lexer": "ipython3",
   "version": "3.6.6"
  }
 },
 "nbformat": 4,
 "nbformat_minor": 2
}
